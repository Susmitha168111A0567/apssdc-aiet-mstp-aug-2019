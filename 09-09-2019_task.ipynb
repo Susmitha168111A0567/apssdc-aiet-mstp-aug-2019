{
 "cells": [
  {
   "cell_type": "markdown",
   "metadata": {},
   "source": [
    "## Question -2:\n",
    "#### Toggle String: You have been given a String S consisting of uppercase and lowercase English alphabets. You need to change the case of each alphabet in this String."
   ]
  },
  {
   "cell_type": "code",
   "execution_count": 2,
   "metadata": {},
   "outputs": [
    {
     "name": "stdout",
     "output_type": "stream",
     "text": [
      "susmi\n"
     ]
    },
    {
     "data": {
      "text/plain": [
       "'SUSMI'"
      ]
     },
     "execution_count": 2,
     "metadata": {},
     "output_type": "execute_result"
    }
   ],
   "source": [
    "string=input()\n",
    "string.swapcase()\n"
   ]
  },
  {
   "cell_type": "markdown",
   "metadata": {},
   "source": [
    "## Question -3:\n",
    "#### Maximum length: Print the words which length has maximum if multiple names has max length print that names in same line."
   ]
  },
  {
   "cell_type": "code",
   "execution_count": 5,
   "metadata": {},
   "outputs": [
    {
     "name": "stdout",
     "output_type": "stream",
     "text": [
      "mahesh\n"
     ]
    }
   ],
   "source": [
    "names=\"mahesh ravi raghu krish bali\"\n",
    "n_list=names.split(\" \")\n",
    "l=len(n_list[0])\n",
    "n=n_list[0]\n",
    "for name in n_list:\n",
    "    if(l<len(name)):\n",
    "        n=name\n",
    "print(n)        \n",
    "        "
   ]
  },
  {
   "cell_type": "markdown",
   "metadata": {},
   "source": [
    "## Question -1:\n",
    "#### Maximum length: Print the words which length has maximum if multiple names has max length print that names in same line.\n",
    "names=\"mahesh ravi raghu krish bali\""
   ]
  },
  {
   "cell_type": "markdown",
   "metadata": {},
   "source": [
    "## Qestion -2:\n",
    "#### Palindrome: Need to find and print whether this string is a palindrome or not. If yes, print \"YES\" else print \"NO\"."
   ]
  },
  {
   "cell_type": "code",
   "execution_count": 6,
   "metadata": {},
   "outputs": [
    {
     "name": "stdout",
     "output_type": "stream",
     "text": [
      "akka\n",
      "YES\n"
     ]
    }
   ],
   "source": [
    "string=input()\n",
    "r=string[::-1]\n",
    "if r==string:\n",
    "    print(\"YES\")\n",
    "else:\n",
    "    print(\"NO\")"
   ]
  }
 ],
 "metadata": {
  "kernelspec": {
   "display_name": "Python 3",
   "language": "python",
   "name": "python3"
  },
  "language_info": {
   "codemirror_mode": {
    "name": "ipython",
    "version": 3
   },
   "file_extension": ".py",
   "mimetype": "text/x-python",
   "name": "python",
   "nbconvert_exporter": "python",
   "pygments_lexer": "ipython3",
   "version": "3.7.3"
  }
 },
 "nbformat": 4,
 "nbformat_minor": 2
}
