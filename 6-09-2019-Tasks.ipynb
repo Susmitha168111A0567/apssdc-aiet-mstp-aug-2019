{
 "cells": [
  {
   "cell_type": "markdown",
   "metadata": {},
   "source": [
    "## Question-1: \n",
    "### Write a Python Program to largest of three given numbers (using input statement)"
   ]
  },
  {
   "cell_type": "code",
   "execution_count": 1,
   "metadata": {},
   "outputs": [
    {
     "name": "stdout",
     "output_type": "stream",
     "text": [
      "A= 50\n",
      "B= 20\n",
      "C= 60\n",
      "Largest number is 60\n"
     ]
    }
   ],
   "source": [
    "#solution for the program\n",
    "a=int(input(\"A= \"))\n",
    "b=int(input(\"B= \"))\n",
    "c=int(input(\"C= \"))\n",
    "if a>b:\n",
    "    if a>c:\n",
    "        print(\"Largest number is\",a)\n",
    "    else:\n",
    "        print(\"Largest number is\",c)\n",
    "elif b>a:\n",
    "    if b>c:\n",
    "        print(\"Largest number is\",b)\n",
    "    else:\n",
    "        print(\"Largest number is\",c)"
   ]
  },
  {
   "cell_type": "markdown",
   "metadata": {},
   "source": [
    "\n",
    "## Question -2:\n",
    "### Write a python program to find the given number(N) in given range(lower bound-upper bound)"
   ]
  },
  {
   "cell_type": "code",
   "execution_count": 3,
   "metadata": {},
   "outputs": [
    {
     "name": "stdout",
     "output_type": "stream",
     "text": [
      "Enter Lower bound number:5\n",
      "Enter Upper bound number:7\n",
      "Enter N:4\n"
     ]
    }
   ],
   "source": [
    "#solution fot the program\n",
    "a=int(input(\"Enter Lower bound number:\"))\n",
    "b=int(input(\"Enter Upper bound number:\"))\n",
    "N=int(input(\"Enter N:\"))\n",
    "if N>a and N<b:\n",
    "    print(\"given number is exist\")"
   ]
  },
  {
   "cell_type": "code",
   "execution_count": null,
   "metadata": {},
   "outputs": [],
   "source": []
  }
 ],
 "metadata": {
  "kernelspec": {
   "display_name": "Python 3",
   "language": "python",
   "name": "python3"
  },
  "language_info": {
   "codemirror_mode": {
    "name": "ipython",
    "version": 3
   },
   "file_extension": ".py",
   "mimetype": "text/x-python",
   "name": "python",
   "nbconvert_exporter": "python",
   "pygments_lexer": "ipython3",
   "version": "3.7.3"
  }
 },
 "nbformat": 4,
 "nbformat_minor": 2
}
