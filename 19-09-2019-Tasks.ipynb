{
 "cells": [
  {
   "cell_type": "markdown",
   "metadata": {},
   "source": [
    "### 16811A0567"
   ]
  },
  {
   "cell_type": "markdown",
   "metadata": {},
   "source": [
    "### Question -1:\n",
    "* write a program to print the next character of given string except z(z is same as z)\n",
    "* Input Format:\n",
    "* hello\n",
    "* Output Format:\n",
    "* ifmm"
   ]
  },
  {
   "cell_type": "code",
   "execution_count": 2,
   "metadata": {},
   "outputs": [
    {
     "name": "stdout",
     "output_type": "stream",
     "text": [
      "susuzzz\n",
      "tvtvzzz\n"
     ]
    }
   ],
   "source": [
    "word=input()\n",
    "k=26\n",
    "words=\"\"\n",
    "for i in range(len(word)):\n",
    "    wrd=ord(word[i])\n",
    "    letter=k\n",
    "    if word[i]=='z' or word[i]=='Z':\n",
    "        words+=chr(wrd)\n",
    "    elif wrd+k>122:\n",
    "        k-=(122-wrd)\n",
    "        k=k%24\n",
    "        words+=chr(97+k)\n",
    "    else:\n",
    "        words+=chr(wrd+k)\n",
    "    k=letter\n",
    "print(words)\n"
   ]
  }
 ],
 "metadata": {
  "kernelspec": {
   "display_name": "Python 3",
   "language": "python",
   "name": "python3"
  },
  "language_info": {
   "codemirror_mode": {
    "name": "ipython",
    "version": 3
   },
   "file_extension": ".py",
   "mimetype": "text/x-python",
   "name": "python",
   "nbconvert_exporter": "python",
   "pygments_lexer": "ipython3",
   "version": "3.7.3"
  }
 },
 "nbformat": 4,
 "nbformat_minor": 2
}
